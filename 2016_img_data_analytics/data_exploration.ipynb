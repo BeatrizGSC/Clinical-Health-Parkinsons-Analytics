{
 "cells": [
  {
   "cell_type": "markdown",
   "metadata": {
    "collapsed": true
   },
   "source": [
    "# Img Data Exploration\n",
    "## Load Data"
   ]
  },
  {
   "cell_type": "code",
   "execution_count": 3,
   "metadata": {
    "collapsed": true
   },
   "outputs": [],
   "source": [
    "import pandas as pd\n",
    "import numpy as np\n",
    "import matplotlib.pyplot as plt\n",
    "import seaborn as sns\n",
    "\n",
    "ctrl_path = \"/home/pier/Machine_Learning/Clinical_Health_Parkinsons_Analytics/2016_img_data_analytics/data/control/\"\n",
    "park_path = \"/home/pier/Machine_Learning/Clinical_Health_Parkinsons_Analytics/2016_img_data_analytics/data/parkinsons/\"\n",
    "\n",
    "df_ctrl = pd.read_csv(ctrl_path + 'control_all_with_header.csv')\n",
    "df_park = pd.read_csv(park_path + 'park_all_with_header.csv')\n",
    "df = pd.concat([df_ctrl, df_park])"
   ]
  },
  {
   "cell_type": "markdown",
   "metadata": {},
   "source": [
    "## Correlation Matrix"
   ]
  },
  {
   "cell_type": "code",
   "execution_count": 4,
   "metadata": {},
   "outputs": [
    {
     "data": {
      "image/png": "[encoded data removed]",
      "text/plain": [
       "<matplotlib.figure.Figure at 0x7f0be39cb400>"
      ]
     },
     "metadata": {},
     "output_type": "display_data"
    }
   ],
   "source": [
    "df_corr = df.drop(['Subject', 'PWP'], axis=1)\n",
    "fig = plt.figure()\n",
    "ax = fig.add_subplot(111)\n",
    "ax.matshow(df_corr.corr())\n",
    "plt.xticks(range(len(df_corr.columns)), df_corr.columns)\n",
    "plt.yticks(range(len(df_corr.columns)), df_corr.columns)\n",
    "plt.show()"
   ]
  },
  {
   "cell_type": "markdown",
   "metadata": {},
   "source": [
    "We see that Pressure and Z are closely correlated. Let's remove Z"
   ]
  },
  {
   "cell_type": "code",
   "execution_count": 5,
   "metadata": {},
   "outputs": [
    {
     "name": "stdout",
     "output_type": "stream",
     "text": [
      "   Subject    X    Y  Pressure  GripAngle  Timestamp  Test_ID  PWP\n",
      "0        1  226  234        80        960    1283186        0    0\n",
      "1        1  226  234       119        960    1283195        0    0\n",
      "2        1  226  234       161        960    1283204        0    0\n",
      "3        1  226  234       194        980    1283213        0    0\n",
      "4        1  226  234       241        980    1283222        0    0\n"
     ]
    }
   ],
   "source": [
    "df = df.drop(['Z'], axis=1)\n",
    "print(df.head())"
   ]
  },
  {
   "cell_type": "markdown",
   "metadata": {},
   "source": [
    "## Split Into 3 Datasets based on Test_ID"
   ]
  },
  {
   "cell_type": "code",
   "execution_count": 11,
   "metadata": {},
   "outputs": [
    {
     "data": {
      "image/png": "[encoded data removed]",
      "text/plain": [
       "<matplotlib.figure.Figure at 0x7f0be422d470>"
      ]
     },
     "metadata": {},
     "output_type": "display_data"
    }
   ],
   "source": [
    "plt.hist(df['Test_ID'])\n",
    "plt.show()\n",
    "df_0 = df[df['Test_ID'] == 0]\n",
    "df_1 = df[df['Test_ID'] == 1]\n",
    "df_2 = df[df['Test_ID'] == 2]"
   ]
  },
  {
   "cell_type": "code",
   "execution_count": 10,
   "metadata": {},
   "outputs": [
    {
     "name": "stdout",
     "output_type": "stream",
     "text": [
      "   Subject    X    Y  Pressure  GripAngle  Timestamp  Test_ID  PWP\n",
      "0        1  226  234        80        960    1283186        0    0\n",
      "1        1  226  234       119        960    1283195        0    0\n",
      "2        1  226  234       161        960    1283204        0    0\n",
      "3        1  226  234       194        980    1283213        0    0\n",
      "4        1  226  234       241        980    1283222        0    0\n",
      "      Subject    X    Y  Pressure  GripAngle  Timestamp  Test_ID  PWP\n",
      "3948        1  225  235       142       1060    1320323        1    0\n",
      "3949        1  226  235       191       1070    1320332        1    0\n",
      "3950        1  226  235       276       1070    1320341        1    0\n",
      "3951        1  226  235       327       1060    1320350        1    0\n",
      "3952        1  226  235       366       1050    1320359        1    0\n",
      "       Subject    X    Y  Pressure  GripAngle  Timestamp  Test_ID  PWP\n",
      "39654        5  242  247         0       2330    6551462        2    0\n",
      "39655        5  242  247         0       2330    6551469        2    0\n",
      "39656        5  243  247         0       2310    6551476        2    0\n",
      "39657        5  243  247         0       2250    6551483        2    0\n",
      "39658        5  243  247         0       2250    6551490        2    0\n"
     ]
    }
   ],
   "source": [
    "print(df_0.head())\n",
    "print(df_1.head())\n",
    "print(df_2.head())"
   ]
  },
  {
   "cell_type": "markdown",
   "metadata": {},
   "source": [
    "## Drop Subject, Timestamp, Test_ID"
   ]
  },
  {
   "cell_type": "code",
   "execution_count": null,
   "metadata": {
    "collapsed": true
   },
   "outputs": [],
   "source": [
    "from sklearn.model_selection import train_test_split\n",
    "\n",
    "df_0 = df_0.drop(['Subject', 'Test_ID','Timestamp', 'Z'], axis=1)\n",
    "train_0, test_0 = train_test_split(df_0, test_size=0.25)\n",
    "train_0.to_csv('train_0.csv', index=False)\n",
    "test_0.to_csv('test_0.csv', index=False)\n",
    "\n",
    "df_1 = df_1.drop(['Subject', 'Test_ID','Timestamp', 'Z'], axis=1)\n",
    "train_1, test_1 = train_test_split(df_1, test_size=0.25)\n",
    "train_1.to_csv('train_1.csv', index=False)\n",
    "test_1.to_csv('test_1.csv', index=False)\n",
    "\n",
    "df_2 = df_2.drop(['Subject', 'Test_ID','Timestamp', 'Z'], axis=1)\n",
    "train_2, test_2 = train_test_split(df_2, test_size=0.25)\n",
    "train_2.to_csv('train_2.csv', index=False)\n",
    "test_2.to_csv('test_2.csv', index=False)"
   ]
  },
  {
   "cell_type": "markdown",
   "metadata": {},
   "source": [
    "continued in orange... "
   ]
  }
 ],
 "metadata": {
  "kernelspec": {
   "display_name": "Python 3",
   "language": "python",
   "name": "python3"
  },
  "language_info": {
   "codemirror_mode": {
    "name": "ipython",
    "version": 3
   },
   "file_extension": ".py",
   "mimetype": "text/x-python",
   "name": "python",
   "nbconvert_exporter": "python",
   "pygments_lexer": "ipython3",
   "version": "3.6.3"
  }
 },
 "nbformat": 4,
 "nbformat_minor": 1
}
